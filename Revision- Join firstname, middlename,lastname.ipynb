{
 "cells": [
  {
   "cell_type": "code",
   "execution_count": 1,
   "id": "01018c8b",
   "metadata": {},
   "outputs": [],
   "source": [
    "import pandas as pd"
   ]
  },
  {
   "cell_type": "code",
   "execution_count": 3,
   "id": "f5e2b525",
   "metadata": {},
   "outputs": [],
   "source": [
    "file=pd.read_excel(r\"C:\\Users\\mani\\OneDrive\\Desktop\\Python files\\file_data.xlsx\")"
   ]
  },
  {
   "cell_type": "code",
   "execution_count": 4,
   "id": "3d89993f",
   "metadata": {},
   "outputs": [
    {
     "data": {
      "text/html": [
       "<div>\n",
       "<style scoped>\n",
       "    .dataframe tbody tr th:only-of-type {\n",
       "        vertical-align: middle;\n",
       "    }\n",
       "\n",
       "    .dataframe tbody tr th {\n",
       "        vertical-align: top;\n",
       "    }\n",
       "\n",
       "    .dataframe thead th {\n",
       "        text-align: right;\n",
       "    }\n",
       "</style>\n",
       "<table border=\"1\" class=\"dataframe\">\n",
       "  <thead>\n",
       "    <tr style=\"text-align: right;\">\n",
       "      <th></th>\n",
       "      <th>firstname</th>\n",
       "      <th>middlename</th>\n",
       "      <th>lastname</th>\n",
       "    </tr>\n",
       "  </thead>\n",
       "  <tbody>\n",
       "    <tr>\n",
       "      <th>0</th>\n",
       "      <td>Aishwariya</td>\n",
       "      <td>Rai</td>\n",
       "      <td>Bachchan</td>\n",
       "    </tr>\n",
       "    <tr>\n",
       "      <th>1</th>\n",
       "      <td>Priyanka</td>\n",
       "      <td>Chopra</td>\n",
       "      <td>Jonas</td>\n",
       "    </tr>\n",
       "    <tr>\n",
       "      <th>2</th>\n",
       "      <td>Tammy</td>\n",
       "      <td>Donald</td>\n",
       "      <td>Reuben</td>\n",
       "    </tr>\n",
       "    <tr>\n",
       "      <th>3</th>\n",
       "      <td>Ankit</td>\n",
       "      <td>NaN</td>\n",
       "      <td>Yadav</td>\n",
       "    </tr>\n",
       "    <tr>\n",
       "      <th>4</th>\n",
       "      <td>Shilpa</td>\n",
       "      <td>NaN</td>\n",
       "      <td>NaN</td>\n",
       "    </tr>\n",
       "  </tbody>\n",
       "</table>\n",
       "</div>"
      ],
      "text/plain": [
       "    firstname middlename  lastname\n",
       "0  Aishwariya        Rai  Bachchan\n",
       "1    Priyanka     Chopra     Jonas\n",
       "2       Tammy     Donald    Reuben\n",
       "3       Ankit        NaN     Yadav\n",
       "4      Shilpa        NaN       NaN"
      ]
     },
     "execution_count": 4,
     "metadata": {},
     "output_type": "execute_result"
    }
   ],
   "source": [
    "file"
   ]
  },
  {
   "cell_type": "code",
   "execution_count": 16,
   "id": "31dceea3",
   "metadata": {},
   "outputs": [
    {
     "data": {
      "text/html": [
       "<div>\n",
       "<style scoped>\n",
       "    .dataframe tbody tr th:only-of-type {\n",
       "        vertical-align: middle;\n",
       "    }\n",
       "\n",
       "    .dataframe tbody tr th {\n",
       "        vertical-align: top;\n",
       "    }\n",
       "\n",
       "    .dataframe thead th {\n",
       "        text-align: right;\n",
       "    }\n",
       "</style>\n",
       "<table border=\"1\" class=\"dataframe\">\n",
       "  <thead>\n",
       "    <tr style=\"text-align: right;\">\n",
       "      <th></th>\n",
       "      <th>firstname</th>\n",
       "      <th>middlename</th>\n",
       "      <th>lastname</th>\n",
       "      <th>fullname</th>\n",
       "    </tr>\n",
       "  </thead>\n",
       "  <tbody>\n",
       "    <tr>\n",
       "      <th>0</th>\n",
       "      <td>Aishwariya</td>\n",
       "      <td>Rai</td>\n",
       "      <td>Bachchan</td>\n",
       "      <td>Aishwariya Rai Bachchan</td>\n",
       "    </tr>\n",
       "    <tr>\n",
       "      <th>1</th>\n",
       "      <td>Priyanka</td>\n",
       "      <td>Chopra</td>\n",
       "      <td>Jonas</td>\n",
       "      <td>Priyanka Chopra Jonas</td>\n",
       "    </tr>\n",
       "    <tr>\n",
       "      <th>2</th>\n",
       "      <td>Tammy</td>\n",
       "      <td>Donald</td>\n",
       "      <td>Reuben</td>\n",
       "      <td>Tammy Donald Reuben</td>\n",
       "    </tr>\n",
       "    <tr>\n",
       "      <th>3</th>\n",
       "      <td>Ankit</td>\n",
       "      <td>nan</td>\n",
       "      <td>Yadav</td>\n",
       "      <td>Ankit nan Yadav</td>\n",
       "    </tr>\n",
       "    <tr>\n",
       "      <th>4</th>\n",
       "      <td>Shilpa</td>\n",
       "      <td>nan</td>\n",
       "      <td>nan</td>\n",
       "      <td>Shilpa nan nan</td>\n",
       "    </tr>\n",
       "  </tbody>\n",
       "</table>\n",
       "</div>"
      ],
      "text/plain": [
       "    firstname middlename  lastname                 fullname\n",
       "0  Aishwariya        Rai  Bachchan  Aishwariya Rai Bachchan\n",
       "1    Priyanka     Chopra     Jonas    Priyanka Chopra Jonas\n",
       "2       Tammy     Donald    Reuben      Tammy Donald Reuben\n",
       "3       Ankit        nan     Yadav          Ankit nan Yadav\n",
       "4      Shilpa        nan       nan           Shilpa nan nan"
      ]
     },
     "execution_count": 16,
     "metadata": {},
     "output_type": "execute_result"
    }
   ],
   "source": [
    "file['fullname']=file[['firstname','middlename','lastname']].apply(lambda x: ' '.join(x),axis=1)\n",
    "file"
   ]
  },
  {
   "cell_type": "code",
   "execution_count": 17,
   "id": "4be68718",
   "metadata": {},
   "outputs": [
    {
     "data": {
      "text/html": [
       "<div>\n",
       "<style scoped>\n",
       "    .dataframe tbody tr th:only-of-type {\n",
       "        vertical-align: middle;\n",
       "    }\n",
       "\n",
       "    .dataframe tbody tr th {\n",
       "        vertical-align: top;\n",
       "    }\n",
       "\n",
       "    .dataframe thead th {\n",
       "        text-align: right;\n",
       "    }\n",
       "</style>\n",
       "<table border=\"1\" class=\"dataframe\">\n",
       "  <thead>\n",
       "    <tr style=\"text-align: right;\">\n",
       "      <th></th>\n",
       "      <th>firstname</th>\n",
       "      <th>middlename</th>\n",
       "      <th>lastname</th>\n",
       "      <th>fullname</th>\n",
       "    </tr>\n",
       "  </thead>\n",
       "  <tbody>\n",
       "    <tr>\n",
       "      <th>0</th>\n",
       "      <td>Aishwariya</td>\n",
       "      <td>Rai</td>\n",
       "      <td>Bachchan</td>\n",
       "      <td>Aishwariya Rai Bachchan</td>\n",
       "    </tr>\n",
       "    <tr>\n",
       "      <th>1</th>\n",
       "      <td>Priyanka</td>\n",
       "      <td>Chopra</td>\n",
       "      <td>Jonas</td>\n",
       "      <td>Priyanka Chopra Jonas</td>\n",
       "    </tr>\n",
       "    <tr>\n",
       "      <th>2</th>\n",
       "      <td>Tammy</td>\n",
       "      <td>Donald</td>\n",
       "      <td>Reuben</td>\n",
       "      <td>Tammy Donald Reuben</td>\n",
       "    </tr>\n",
       "    <tr>\n",
       "      <th>3</th>\n",
       "      <td>Ankit</td>\n",
       "      <td>nan</td>\n",
       "      <td>Yadav</td>\n",
       "      <td>Ankit nan Yadav</td>\n",
       "    </tr>\n",
       "    <tr>\n",
       "      <th>4</th>\n",
       "      <td>Shilpa</td>\n",
       "      <td>nan</td>\n",
       "      <td>nan</td>\n",
       "      <td>Shilpa nan nan</td>\n",
       "    </tr>\n",
       "  </tbody>\n",
       "</table>\n",
       "</div>"
      ],
      "text/plain": [
       "    firstname middlename  lastname                 fullname\n",
       "0  Aishwariya        Rai  Bachchan  Aishwariya Rai Bachchan\n",
       "1    Priyanka     Chopra     Jonas    Priyanka Chopra Jonas\n",
       "2       Tammy     Donald    Reuben      Tammy Donald Reuben\n",
       "3       Ankit        nan     Yadav          Ankit nan Yadav\n",
       "4      Shilpa        nan       nan           Shilpa nan nan"
      ]
     },
     "execution_count": 17,
     "metadata": {},
     "output_type": "execute_result"
    }
   ],
   "source": [
    "file"
   ]
  },
  {
   "cell_type": "code",
   "execution_count": 18,
   "id": "0adabe4c",
   "metadata": {},
   "outputs": [],
   "source": [
    "file1=file.copy()"
   ]
  },
  {
   "cell_type": "code",
   "execution_count": 19,
   "id": "c8f441d1",
   "metadata": {},
   "outputs": [
    {
     "data": {
      "text/html": [
       "<div>\n",
       "<style scoped>\n",
       "    .dataframe tbody tr th:only-of-type {\n",
       "        vertical-align: middle;\n",
       "    }\n",
       "\n",
       "    .dataframe tbody tr th {\n",
       "        vertical-align: top;\n",
       "    }\n",
       "\n",
       "    .dataframe thead th {\n",
       "        text-align: right;\n",
       "    }\n",
       "</style>\n",
       "<table border=\"1\" class=\"dataframe\">\n",
       "  <thead>\n",
       "    <tr style=\"text-align: right;\">\n",
       "      <th></th>\n",
       "      <th>firstname</th>\n",
       "      <th>middlename</th>\n",
       "      <th>lastname</th>\n",
       "      <th>fullname</th>\n",
       "    </tr>\n",
       "  </thead>\n",
       "  <tbody>\n",
       "    <tr>\n",
       "      <th>0</th>\n",
       "      <td>Aishwariya</td>\n",
       "      <td>Rai</td>\n",
       "      <td>Bachchan</td>\n",
       "      <td>Aishwariya Rai Bachchan</td>\n",
       "    </tr>\n",
       "    <tr>\n",
       "      <th>1</th>\n",
       "      <td>Priyanka</td>\n",
       "      <td>Chopra</td>\n",
       "      <td>Jonas</td>\n",
       "      <td>Priyanka Chopra Jonas</td>\n",
       "    </tr>\n",
       "    <tr>\n",
       "      <th>2</th>\n",
       "      <td>Tammy</td>\n",
       "      <td>Donald</td>\n",
       "      <td>Reuben</td>\n",
       "      <td>Tammy Donald Reuben</td>\n",
       "    </tr>\n",
       "    <tr>\n",
       "      <th>3</th>\n",
       "      <td>Ankit</td>\n",
       "      <td>nan</td>\n",
       "      <td>Yadav</td>\n",
       "      <td>Ankit nan Yadav</td>\n",
       "    </tr>\n",
       "    <tr>\n",
       "      <th>4</th>\n",
       "      <td>Shilpa</td>\n",
       "      <td>nan</td>\n",
       "      <td>nan</td>\n",
       "      <td>Shilpa nan nan</td>\n",
       "    </tr>\n",
       "  </tbody>\n",
       "</table>\n",
       "</div>"
      ],
      "text/plain": [
       "    firstname middlename  lastname                 fullname\n",
       "0  Aishwariya        Rai  Bachchan  Aishwariya Rai Bachchan\n",
       "1    Priyanka     Chopra     Jonas    Priyanka Chopra Jonas\n",
       "2       Tammy     Donald    Reuben      Tammy Donald Reuben\n",
       "3       Ankit        nan     Yadav          Ankit nan Yadav\n",
       "4      Shilpa        nan       nan           Shilpa nan nan"
      ]
     },
     "execution_count": 19,
     "metadata": {},
     "output_type": "execute_result"
    }
   ],
   "source": [
    "file1"
   ]
  },
  {
   "cell_type": "code",
   "execution_count": null,
   "id": "6930116e",
   "metadata": {},
   "outputs": [],
   "source": []
  },
  {
   "cell_type": "code",
   "execution_count": null,
   "id": "2b64d285",
   "metadata": {},
   "outputs": [],
   "source": []
  },
  {
   "cell_type": "code",
   "execution_count": null,
   "id": "d9c6345f",
   "metadata": {},
   "outputs": [],
   "source": []
  }
 ],
 "metadata": {
  "kernelspec": {
   "display_name": "Python 3",
   "language": "python",
   "name": "python3"
  },
  "language_info": {
   "codemirror_mode": {
    "name": "ipython",
    "version": 3
   },
   "file_extension": ".py",
   "mimetype": "text/x-python",
   "name": "python",
   "nbconvert_exporter": "python",
   "pygments_lexer": "ipython3",
   "version": "3.8.8"
  }
 },
 "nbformat": 4,
 "nbformat_minor": 5
}
